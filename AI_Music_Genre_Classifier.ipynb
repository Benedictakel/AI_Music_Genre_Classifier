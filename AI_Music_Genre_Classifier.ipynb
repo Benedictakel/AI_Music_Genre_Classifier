{
  "nbformat": 4,
  "nbformat_minor": 0,
  "metadata": {
    "colab": {
      "provenance": [],
      "authorship_tag": "ABX9TyM/tq+ks8ObeJexMarx+KKN"
    },
    "kernelspec": {
      "name": "python3",
      "display_name": "Python 3"
    },
    "language_info": {
      "name": "python"
    }
  },
  "cells": [
    {
      "cell_type": "code",
      "execution_count": null,
      "metadata": {
        "id": "ylHnukK-qemk"
      },
      "outputs": [],
      "source": [
        "!pip install spotipy\n",
        "\n",
        "import pandas as pd\n",
        "import numpy as np\n",
        "import seaborn as sns\n",
        "import matplotlib.pyplot as plt\n",
        "\n",
        "from sklearn.ensemble import RandomForestClassifier\n",
        "from sklearn.model_selection import train_test_split\n",
        "from sklearn.preprocessing import LabelEncoder\n",
        "from sklearn.metrics import classification_report, accuracy_score\n",
        "import spotipy\n",
        "from spotipy.oauth2 import SpotifyClientCredentials\n"
      ]
    },
    {
      "cell_type": "code",
      "source": [
        "client_id = 'YOUR_SPOTIFY_CLIENT_ID'\n",
        "client_secret = 'YOUR_SPOTIFY_CLIENT_SECRET'\n",
        "\n",
        "auth_manager = SpotifyClientCredentials(client_id=client_id, client_secret=client_secret)\n",
        "sp = spotipy.Spotify(auth_manager=auth_manager)\n"
      ],
      "metadata": {
        "id": "xGDc-cIMr29U"
      },
      "execution_count": null,
      "outputs": []
    },
    {
      "cell_type": "code",
      "source": [
        "genres = ['pop', 'rock', 'classical', 'hip hop', 'jazz']\n",
        "features_list = []\n",
        "\n",
        "for genre in genres:\n",
        "    results = sp.search(q=f'genre:{genre}', type='track', limit=20)\n",
        "    for track in results['tracks']['items']:\n",
        "        audio_features = sp.audio_features(track['id'])[0]\n",
        "        if audio_features:\n",
        "            audio_features['genre'] = genre\n",
        "            features_list.append(audio_features)\n",
        "\n",
        "df = pd.DataFrame(features_list)\n",
        "df.head()\n"
      ],
      "metadata": {
        "id": "SCOCBJozr8aN"
      },
      "execution_count": null,
      "outputs": []
    },
    {
      "cell_type": "code",
      "source": [
        "selected_features = [\n",
        "    'danceability', 'energy', 'key', 'loudness', 'mode', 'speechiness',\n",
        "    'acousticness', 'instrumentalness', 'liveness', 'valence', 'tempo', 'genre'\n",
        "]\n",
        "\n",
        "df = df[selected_features]\n"
      ],
      "metadata": {
        "id": "kbpWwYLlsA9f"
      },
      "execution_count": null,
      "outputs": []
    },
    {
      "cell_type": "code",
      "source": [
        "le = LabelEncoder()\n",
        "df['genre_encoded'] = le.fit_transform(df['genre'])\n",
        "\n",
        "X = df.drop(['genre', 'genre_encoded'], axis=1)\n",
        "y = df['genre_encoded']\n",
        "\n",
        "X_train, X_test, y_train, y_test = train_test_split(X, y, test_size=0.2, random_state=42)\n"
      ],
      "metadata": {
        "id": "BkZyNwZQsD2i"
      },
      "execution_count": null,
      "outputs": []
    },
    {
      "cell_type": "code",
      "source": [
        "model = RandomForestClassifier(n_estimators=100, random_state=42)\n",
        "model.fit(X_train, y_train)\n"
      ],
      "metadata": {
        "id": "3c-DHy8esI_H"
      },
      "execution_count": null,
      "outputs": []
    },
    {
      "cell_type": "code",
      "source": [
        "y_pred = model.predict(X_test)\n",
        "\n",
        "print(\"Accuracy:\", accuracy_score(y_test, y_pred))\n",
        "print(\"\\nClassification Report:\\n\", classification_report(y_test, y_pred, target_names=le.classes_))\n"
      ],
      "metadata": {
        "id": "gFjGh16fsQwO"
      },
      "execution_count": null,
      "outputs": []
    },
    {
      "cell_type": "code",
      "source": [
        "# Example: Billie Eilish - bad guy\n",
        "track = sp.search(q=\"bad guy billie eilish\", type=\"track\", limit=1)['tracks']['items'][0]\n",
        "features = sp.audio_features(track['id'])[0]\n",
        "\n",
        "input_features = [[\n",
        "    features['danceability'], features['energy'], features['key'], features['loudness'],\n",
        "    features['mode'], features['speechiness'], features['acousticness'],\n",
        "    features['instrumentalness'], features['liveness'], features['valence'], features['tempo']\n",
        "]]\n",
        "\n",
        "predicted_genre = le.inverse_transform(model.predict(input_features))[0]\n",
        "print(\"Predicted Genre:\", predicted_genre)\n"
      ],
      "metadata": {
        "id": "_8bb9QvZsY8L"
      },
      "execution_count": null,
      "outputs": []
    }
  ]
}